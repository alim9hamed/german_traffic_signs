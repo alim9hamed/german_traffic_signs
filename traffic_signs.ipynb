{
 "cells": [
  {
   "cell_type": "markdown",
   "id": "a6b0e3d7",
   "metadata": {},
   "source": [
    "## Importing Libraries"
   ]
  },
  {
   "cell_type": "code",
   "execution_count": 88,
   "id": "3247e4ca",
   "metadata": {},
   "outputs": [],
   "source": [
    "import numpy as np\n",
    "import pandas as pd\n",
    "import matplotlib.pyplot as plt\n",
    "import seaborn as sns\n",
    "%matplotlib inline\n",
    "sns.set()\n",
    "\n",
    "from keras.models import Sequential\n",
    "from keras.layers import Conv2D, MaxPooling2D, AveragePooling2D, Dense, Flatten, Dropout\n",
    "from keras.optimizers import Adam\n",
    "from keras.callbacks import TensorBoard\n",
    "from tensorflow.keras.preprocessing.image import ImageDataGenerator\n",
    "\n",
    "\n",
    "\n",
    "\n",
    "from sklearn.model_selection import train_test_split\n",
    "from sklearn.preprocessing import MinMaxScaler\n",
    "\n",
    "import cv2"
   ]
  },
  {
   "cell_type": "code",
   "execution_count": 89,
   "id": "96e22325",
   "metadata": {},
   "outputs": [],
   "source": [
    "import warnings\n",
    "warnings.filterwarnings(\"ignore\")"
   ]
  },
  {
   "cell_type": "markdown",
   "id": "0d39699a",
   "metadata": {},
   "source": [
    "=========="
   ]
  },
  {
   "attachments": {},
   "cell_type": "markdown",
   "id": "f8c2ed4b",
   "metadata": {},
   "source": [
    "## Traffic Signs "
   ]
  },
  {
   "cell_type": "markdown",
   "id": "65d6f76f",
   "metadata": {},
   "source": [
    "Dataset Source: https://www.kaggle.com/code/shivank856/gtsrb-cnn-98-test-accuracy/data"
   ]
  },
  {
   "cell_type": "markdown",
   "id": "11e9bbc8",
   "metadata": {},
   "source": [
    "- In this case study, you have been provided with images of traffic signs and the goal is to train a Deep Network to classify them\n",
    "- The dataset contains 43 different classes of images. \n",
    "- Classes are as listed below: \n",
    "\n",
    "    - ( 0, b'Speed limit (20km/h)') ( 1, b'Speed limit (30km/h)')\n",
    "    - ( 2, b'Speed limit (50km/h)') ( 3, b'Speed limit (60km/h)')\n",
    "    - ( 4, b'Speed limit (70km/h)') ( 5, b'Speed limit (80km/h)')\n",
    "    - ( 6, b'End of speed limit (80km/h)') ( 7, b'Speed limit (100km/h)')\n",
    "    - ( 8, b'Speed limit (120km/h)') ( 9, b'No passing')\n",
    "    - (10, b'No passing for vehicles over 3.5 metric tons')\n",
    "    - (11, b'Right-of-way at the next intersection') (12, b'Priority road')\n",
    "    - (13, b'Yield') (14, b'Stop') (15, b'No vehicles')\n",
    "    - (16, b'Vehicles over 3.5 metric tons prohibited') (17, b'No entry')\n",
    "    - (18, b'General caution') (19, b'Dangerous curve to the left')\n",
    "    - (20, b'Dangerous curve to the right') (21, b'Double curve')\n",
    "    - (22, b'Bumpy road') (23, b'Slippery road')\n",
    "    - (24, b'Road narrows on the right') (25, b'Road work')\n",
    "    - (26, b'Traffic signals') (27, b'Pedestrians') (28, b'Children crossing')\n",
    "    - (29, b'Bicycles crossing') (30, b'Beware of ice/snow')\n",
    "    - (31, b'Wild animals crossing')\n",
    "    - (32, b'End of all speed and passing limits') (33, b'Turn right ahead')\n",
    "    - (34, b'Turn left ahead') (35, b'Ahead only') (36, b'Go straight or right')\n",
    "    - (37, b'Go straight or left') (38, b'Keep right') (39, b'Keep left')\n",
    "    - (40, b'Roundabout mandatory') (41, b'End of no passing')\n",
    "    - (42, b'End of no passing by vehicles over 3.5 metric tons')\n",
    "\n",
    "- The network used is called Le-Net that was presented by Yann LeCun\n",
    "http://yann.lecun.com/exdb/publis/pdf/lecun-01a.pdf\n"
   ]
  },
  {
   "cell_type": "code",
   "execution_count": 90,
   "id": "e9b3553b",
   "metadata": {},
   "outputs": [],
   "source": [
    "# from IPython.display import Image\n",
    "# Image(\"imgs/lenet.png\")"
   ]
  },
  {
   "cell_type": "code",
   "execution_count": 91,
   "id": "f8f41eb2",
   "metadata": {},
   "outputs": [],
   "source": [
    "# from IPython.display import Image\n",
    "# Image(\"imgs/traffic-signs-cnn.png\")"
   ]
  },
  {
   "cell_type": "markdown",
   "id": "a2b9ccf5",
   "metadata": {},
   "source": [
    "## Importing & Inspecting Data"
   ]
  },
  {
   "cell_type": "code",
   "execution_count": 92,
   "id": "191855a5",
   "metadata": {},
   "outputs": [
    {
     "data": {
      "text/plain": [
       "{'coords': array([[  6,   5,  21,  20],\n",
       "        [  6,   6,  22,  22],\n",
       "        [  5,   6,  22,  23],\n",
       "        ...,\n",
       "        [ 17,  15, 178, 155],\n",
       "        [ 17,  15, 183, 160],\n",
       "        [ 20,  18, 211, 184]], dtype=uint8),\n",
       " 'labels': array([41, 41, 41, ..., 25, 25, 25], dtype=uint8),\n",
       " 'features': array([[[[ 28,  25,  24],\n",
       "          [ 27,  24,  23],\n",
       "          [ 27,  24,  22],\n",
       "          ...,\n",
       "          [ 32,  28,  24],\n",
       "          [ 31,  27,  25],\n",
       "          [ 31,  27,  26]],\n",
       " \n",
       "         [[ 29,  26,  25],\n",
       "          [ 27,  25,  23],\n",
       "          [ 27,  25,  23],\n",
       "          ...,\n",
       "          [ 32,  28,  24],\n",
       "          [ 31,  27,  24],\n",
       "          [ 30,  27,  25]],\n",
       " \n",
       "         [[ 28,  26,  26],\n",
       "          [ 27,  25,  23],\n",
       "          [ 26,  25,  23],\n",
       "          ...,\n",
       "          [ 32,  28,  24],\n",
       "          [ 31,  27,  24],\n",
       "          [ 30,  27,  25]],\n",
       " \n",
       "         ...,\n",
       " \n",
       "         [[ 27,  24,  23],\n",
       "          [ 28,  25,  24],\n",
       "          [ 30,  25,  24],\n",
       "          ...,\n",
       "          [ 27,  24,  23],\n",
       "          [ 28,  24,  22],\n",
       "          [ 29,  25,  22]],\n",
       " \n",
       "         [[ 28,  23,  23],\n",
       "          [ 29,  24,  24],\n",
       "          [ 31,  25,  24],\n",
       "          ...,\n",
       "          [ 27,  24,  23],\n",
       "          [ 28,  24,  22],\n",
       "          [ 28,  24,  21]],\n",
       " \n",
       "         [[ 29,  23,  23],\n",
       "          [ 30,  24,  24],\n",
       "          [ 32,  24,  23],\n",
       "          ...,\n",
       "          [ 27,  24,  22],\n",
       "          [ 27,  23,  21],\n",
       "          [ 26,  22,  20]]],\n",
       " \n",
       " \n",
       "        [[[ 28,  24,  24],\n",
       "          [ 26,  23,  23],\n",
       "          [ 27,  24,  24],\n",
       "          ...,\n",
       "          [ 31,  28,  26],\n",
       "          [ 31,  28,  27],\n",
       "          [ 32,  28,  27]],\n",
       " \n",
       "         [[ 27,  24,  24],\n",
       "          [ 27,  24,  24],\n",
       "          [ 28,  25,  24],\n",
       "          ...,\n",
       "          [ 31,  27,  25],\n",
       "          [ 31,  27,  26],\n",
       "          [ 33,  29,  27]],\n",
       " \n",
       "         [[ 26,  24,  24],\n",
       "          [ 26,  24,  24],\n",
       "          [ 27,  24,  23],\n",
       "          ...,\n",
       "          [ 31,  26,  25],\n",
       "          [ 31,  27,  26],\n",
       "          [ 33,  29,  27]],\n",
       " \n",
       "         ...,\n",
       " \n",
       "         [[ 28,  25,  23],\n",
       "          [ 30,  27,  24],\n",
       "          [ 30,  27,  24],\n",
       "          ...,\n",
       "          [ 27,  24,  22],\n",
       "          [ 27,  24,  22],\n",
       "          [ 28,  24,  22]],\n",
       " \n",
       "         [[ 27,  24,  22],\n",
       "          [ 29,  26,  23],\n",
       "          [ 31,  26,  24],\n",
       "          ...,\n",
       "          [ 26,  23,  21],\n",
       "          [ 27,  24,  22],\n",
       "          [ 28,  25,  23]],\n",
       " \n",
       "         [[ 28,  24,  23],\n",
       "          [ 28,  24,  22],\n",
       "          [ 29,  24,  22],\n",
       "          ...,\n",
       "          [ 27,  23,  22],\n",
       "          [ 27,  24,  23],\n",
       "          [ 29,  26,  25]]],\n",
       " \n",
       " \n",
       "        [[[ 29,  25,  25],\n",
       "          [ 29,  26,  26],\n",
       "          [ 30,  27,  27],\n",
       "          ...,\n",
       "          [ 31,  27,  24],\n",
       "          [ 31,  28,  25],\n",
       "          [ 32,  29,  27]],\n",
       " \n",
       "         [[ 27,  24,  24],\n",
       "          [ 27,  25,  25],\n",
       "          [ 28,  26,  26],\n",
       "          ...,\n",
       "          [ 31,  27,  23],\n",
       "          [ 32,  28,  25],\n",
       "          [ 33,  30,  27]],\n",
       " \n",
       "         [[ 27,  24,  24],\n",
       "          [ 28,  26,  26],\n",
       "          [ 29,  27,  27],\n",
       "          ...,\n",
       "          [ 32,  28,  24],\n",
       "          [ 32,  28,  24],\n",
       "          [ 33,  29,  26]],\n",
       " \n",
       "         ...,\n",
       " \n",
       "         [[ 28,  26,  22],\n",
       "          [ 29,  26,  21],\n",
       "          [ 31,  26,  22],\n",
       "          ...,\n",
       "          [ 29,  24,  21],\n",
       "          [ 28,  23,  20],\n",
       "          [ 28,  23,  22]],\n",
       " \n",
       "         [[ 27,  26,  23],\n",
       "          [ 28,  25,  21],\n",
       "          [ 30,  25,  22],\n",
       "          ...,\n",
       "          [ 28,  23,  21],\n",
       "          [ 27,  22,  20],\n",
       "          [ 28,  24,  22]],\n",
       " \n",
       "         [[ 29,  26,  23],\n",
       "          [ 28,  24,  21],\n",
       "          [ 29,  24,  21],\n",
       "          ...,\n",
       "          [ 29,  25,  23],\n",
       "          [ 28,  24,  22],\n",
       "          [ 30,  26,  24]]],\n",
       " \n",
       " \n",
       "        ...,\n",
       " \n",
       " \n",
       "        [[[ 51,  67,  86],\n",
       "          [ 55,  59,  71],\n",
       "          [ 75,  81,  92],\n",
       "          ...,\n",
       "          [250, 248, 243],\n",
       "          [207, 212, 233],\n",
       "          [121, 116, 140]],\n",
       " \n",
       "         [[ 35,  42,  49],\n",
       "          [ 48,  47,  51],\n",
       "          [ 91,  96, 113],\n",
       "          ...,\n",
       "          [220, 224, 226],\n",
       "          [169, 177, 187],\n",
       "          [ 84,  87, 100]],\n",
       " \n",
       "         [[ 27,  26,  29],\n",
       "          [ 41,  38,  39],\n",
       "          [ 55,  64,  78],\n",
       "          ...,\n",
       "          [122, 143, 160],\n",
       "          [ 97, 104, 129],\n",
       "          [ 59,  59,  56]],\n",
       " \n",
       "         ...,\n",
       " \n",
       "         [[ 24,  23,  27],\n",
       "          [ 21,  20,  27],\n",
       "          [ 20,  19,  22],\n",
       "          ...,\n",
       "          [ 76,  79,  83],\n",
       "          [ 54,  64,  77],\n",
       "          [ 45,  51,  65]],\n",
       " \n",
       "         [[ 31,  31,  33],\n",
       "          [ 22,  23,  29],\n",
       "          [ 20,  18,  21],\n",
       "          ...,\n",
       "          [ 66,  67,  84],\n",
       "          [ 56,  65,  74],\n",
       "          [ 45,  55,  73]],\n",
       " \n",
       "         [[ 28,  28,  30],\n",
       "          [ 22,  21,  25],\n",
       "          [ 19,  18,  19],\n",
       "          ...,\n",
       "          [ 67,  63,  76],\n",
       "          [ 39,  45,  55],\n",
       "          [ 32,  37,  47]]],\n",
       " \n",
       " \n",
       "        [[[ 82,  78,  96],\n",
       "          [120, 126, 148],\n",
       "          [112, 125, 146],\n",
       "          ...,\n",
       "          [185, 182, 177],\n",
       "          [204, 210, 215],\n",
       "          [132, 114, 121]],\n",
       " \n",
       "         [[ 74,  77,  93],\n",
       "          [171, 174, 185],\n",
       "          [137, 164, 184],\n",
       "          ...,\n",
       "          [180, 181, 187],\n",
       "          [198, 200, 213],\n",
       "          [ 79,  85,  85]],\n",
       " \n",
       "         [[ 54,  50,  56],\n",
       "          [100, 106, 118],\n",
       "          [117, 132, 158],\n",
       "          ...,\n",
       "          [157, 153, 160],\n",
       "          [176, 183, 199],\n",
       "          [ 88,  80,  82]],\n",
       " \n",
       "         ...,\n",
       " \n",
       "         [[ 22,  21,  22],\n",
       "          [ 20,  19,  19],\n",
       "          [ 18,  16,  19],\n",
       "          ...,\n",
       "          [ 50,  50,  60],\n",
       "          [ 37,  43,  52],\n",
       "          [ 30,  41,  59]],\n",
       " \n",
       "         [[ 18,  16,  18],\n",
       "          [ 19,  17,  18],\n",
       "          [ 19,  18,  21],\n",
       "          ...,\n",
       "          [ 36,  44,  60],\n",
       "          [ 33,  36,  48],\n",
       "          [ 36,  43,  61]],\n",
       " \n",
       "         [[ 18,  17,  20],\n",
       "          [ 21,  20,  23],\n",
       "          [ 24,  22,  25],\n",
       "          ...,\n",
       "          [ 32,  34,  41],\n",
       "          [ 45,  42,  48],\n",
       "          [ 41,  43,  52]]],\n",
       " \n",
       " \n",
       "        [[[ 69,  79,  96],\n",
       "          [ 24,  26,  28],\n",
       "          [ 40,  42,  45],\n",
       "          ...,\n",
       "          [225, 234, 237],\n",
       "          [151, 161, 166],\n",
       "          [164, 162, 169]],\n",
       " \n",
       "         [[ 99, 110, 125],\n",
       "          [ 36,  41,  47],\n",
       "          [ 63,  56,  62],\n",
       "          ...,\n",
       "          [197, 216, 224],\n",
       "          [154, 163, 169],\n",
       "          [164, 163, 159]],\n",
       " \n",
       "         [[104, 107, 113],\n",
       "          [ 34,  37,  40],\n",
       "          [ 72,  70,  77],\n",
       "          ...,\n",
       "          [223, 237, 235],\n",
       "          [181, 192, 198],\n",
       "          [166, 167, 159]],\n",
       " \n",
       "         ...,\n",
       " \n",
       "         [[ 21,  20,  23],\n",
       "          [ 23,  24,  30],\n",
       "          [ 19,  20,  24],\n",
       "          ...,\n",
       "          [ 45,  47,  54],\n",
       "          [ 58,  62,  70],\n",
       "          [ 58,  70,  82]],\n",
       " \n",
       "         [[ 18,  17,  21],\n",
       "          [ 19,  19,  24],\n",
       "          [ 18,  18,  23],\n",
       "          ...,\n",
       "          [ 36,  36,  40],\n",
       "          [ 58,  59,  70],\n",
       "          [ 61,  69,  81]],\n",
       " \n",
       "         [[ 17,  16,  19],\n",
       "          [ 16,  15,  18],\n",
       "          [ 16,  15,  18],\n",
       "          ...,\n",
       "          [ 40,  40,  44],\n",
       "          [ 57,  62,  73],\n",
       "          [ 57,  68,  80]]]], dtype=uint8),\n",
       " 'sizes': array([[ 26,  25],\n",
       "        [ 27,  27],\n",
       "        [ 27,  28],\n",
       "        ...,\n",
       "        [194, 169],\n",
       "        [201, 175],\n",
       "        [230, 201]], dtype=uint8)}"
      ]
     },
     "execution_count": 92,
     "metadata": {},
     "output_type": "execute_result"
    }
   ],
   "source": [
    "train = pd.read_pickle('traffic-signs-data/train.p')\n",
    "train"
   ]
  },
  {
   "cell_type": "code",
   "execution_count": 93,
   "id": "291cd147",
   "metadata": {},
   "outputs": [],
   "source": [
    "X_train, y_train = train['features'], train['labels']"
   ]
  },
  {
   "cell_type": "code",
   "execution_count": 94,
   "id": "93a050ff",
   "metadata": {},
   "outputs": [],
   "source": [
    "valid = pd.read_pickle('traffic-signs-data/valid.p')"
   ]
  },
  {
   "cell_type": "code",
   "execution_count": 95,
   "id": "0b0b92c1",
   "metadata": {},
   "outputs": [],
   "source": [
    "X_valid, y_valid = valid['features'], valid['labels']"
   ]
  },
  {
   "cell_type": "code",
   "execution_count": 96,
   "id": "520ec94f",
   "metadata": {},
   "outputs": [],
   "source": [
    "test = pd.read_pickle('traffic-signs-data/test.p')\n"
   ]
  },
  {
   "cell_type": "code",
   "execution_count": 97,
   "id": "d31381fb",
   "metadata": {},
   "outputs": [],
   "source": [
    "X_test, y_test = test['features'], test['labels']"
   ]
  },
  {
   "cell_type": "code",
   "execution_count": 98,
   "id": "71c9afa8",
   "metadata": {},
   "outputs": [
    {
     "data": {
      "text/plain": [
       "(34799, 32, 32, 3)"
      ]
     },
     "execution_count": 98,
     "metadata": {},
     "output_type": "execute_result"
    }
   ],
   "source": [
    "X_train.shape"
   ]
  },
  {
   "cell_type": "code",
   "execution_count": 99,
   "id": "231ac504",
   "metadata": {},
   "outputs": [
    {
     "data": {
      "text/plain": [
       "(34799,)"
      ]
     },
     "execution_count": 99,
     "metadata": {},
     "output_type": "execute_result"
    }
   ],
   "source": [
    "y_train.shape"
   ]
  },
  {
   "attachments": {},
   "cell_type": "markdown",
   "id": "d4fce451",
   "metadata": {},
   "source": [
    "## EDA"
   ]
  },
  {
   "cell_type": "code",
   "execution_count": 100,
   "id": "a0f57c36",
   "metadata": {},
   "outputs": [
    {
     "data": {
      "text/plain": [
       "9"
      ]
     },
     "execution_count": 100,
     "metadata": {},
     "output_type": "execute_result"
    },
    {
     "data": {
      "image/png": "[encoded data removed]",
      "text/plain": [
       "<Figure size 640x480 with 1 Axes>"
      ]
     },
     "metadata": {},
     "output_type": "display_data"
    }
   ],
   "source": [
    "plt.imshow(X_train[11234])\n",
    "y_train[11234]"
   ]
  },
  {
   "attachments": {},
   "cell_type": "markdown",
   "id": "dc5f59f4",
   "metadata": {},
   "source": [
    "## Data Preprocessing"
   ]
  },
  {
   "attachments": {},
   "cell_type": "markdown",
   "id": "703f02fa",
   "metadata": {},
   "source": [
    "#####  Shuffling Data"
   ]
  },
  {
   "cell_type": "code",
   "execution_count": 101,
   "id": "62baf717",
   "metadata": {},
   "outputs": [],
   "source": [
    "from sklearn.utils import shuffle\n",
    "X_train, y_train = shuffle(X_train, y_train)"
   ]
  },
  {
   "cell_type": "code",
   "execution_count": 102,
   "id": "96964d4a",
   "metadata": {},
   "outputs": [
    {
     "name": "stdout",
     "output_type": "stream",
     "text": [
      "(34799, 32, 32, 1)\n",
      "(12630, 32, 32, 1)\n",
      "(4410, 32, 32, 1)\n"
     ]
    }
   ],
   "source": [
    "# Convert images to grayscale\n",
    "X_train_gray = np.array([cv2.cvtColor(image, cv2.COLOR_BGR2GRAY) for image in X_train])\n",
    "X_test_gray = np.array([cv2.cvtColor(image, cv2.COLOR_BGR2GRAY) for image in X_test])\n",
    "X_valid_gray = np.array([cv2.cvtColor(image, cv2.COLOR_BGR2GRAY) for image in X_valid])\n",
    "\n",
    "# Reshape to add the single color channel for compatibility\n",
    "X_train_gray = X_train_gray[..., np.newaxis]\n",
    "X_test_gray = X_test_gray[..., np.newaxis]\n",
    "X_valid_gray = X_valid_gray[..., np.newaxis]\n",
    "\n",
    "# Initialize the MinMaxScaler\n",
    "scaler = MinMaxScaler()\n",
    "\n",
    "# Flatten the images to fit into the scaler\n",
    "X_train_flat = X_train_gray.reshape(-1, X_train_gray.shape[1] * X_train_gray.shape[2])\n",
    "X_test_flat = X_test_gray.reshape(-1, X_test_gray.shape[1] * X_test_gray.shape[2])\n",
    "X_valid_flat = X_valid_gray.reshape(-1, X_valid_gray.shape[1] * X_valid_gray.shape[2])\n",
    "\n",
    "# Fit the scaler on the training data and transform the data\n",
    "X_train_gray_norm = scaler.fit_transform(X_train_flat)\n",
    "X_test_gray_norm = scaler.transform(X_test_flat)\n",
    "X_valid_gray_norm = scaler.transform(X_valid_flat)\n",
    "\n",
    "# Reshape back to the original image shape\n",
    "X_train_gray_norm = X_train_gray_norm.reshape(X_train_gray.shape)\n",
    "X_test_gray_norm = X_test_gray_norm.reshape(X_test_gray.shape)\n",
    "X_valid_gray_norm = X_valid_gray_norm.reshape(X_valid_gray.shape)\n",
    "\n",
    "print(X_train_gray_norm.shape)\n",
    "print(X_test_gray_norm.shape)\n",
    "print(X_valid_gray_norm.shape)\n"
   ]
  },
  {
   "cell_type": "code",
   "execution_count": 103,
   "id": "dd21cdfd",
   "metadata": {},
   "outputs": [
    {
     "data": {
      "text/plain": [
       "<matplotlib.image.AxesImage at 0x1cbceba3790>"
      ]
     },
     "execution_count": 103,
     "metadata": {},
     "output_type": "execute_result"
    },
    {
     "data": {
      "image/png": "[encoded data removed]",
      "text/plain": [
       "<Figure size 640x480 with 1 Axes>"
      ]
     },
     "metadata": {},
     "output_type": "display_data"
    },
    {
     "data": {
      "image/png": "[encoded data removed]",
      "text/plain": [
       "<Figure size 640x480 with 1 Axes>"
      ]
     },
     "metadata": {},
     "output_type": "display_data"
    }
   ],
   "source": [
    "plt.imshow(X_train_gray[1000].squeeze(), cmap='gray')\n",
    "plt.figure()\n",
    "plt.imshow(X_train[1000])"
   ]
  },
  {
   "attachments": {},
   "cell_type": "markdown",
   "id": "d766131d",
   "metadata": {},
   "source": [
    "## Data Augmentation"
   ]
  },
  {
   "cell_type": "code",
   "execution_count": 173,
   "id": "035c7bdf",
   "metadata": {},
   "outputs": [],
   "source": [
    "aug = ImageDataGenerator(\n",
    "    rotation_range=10,\n",
    "    zoom_range=0.15,\n",
    "    width_shift_range=0.1,\n",
    "    height_shift_range=0.1,\n",
    "    shear_range=0.15,\n",
    "    horizontal_flip=True,\n",
    "    vertical_flip=True,\n",
    "    fill_mode=\"nearest\"\n",
    ")\n",
    "\n",
    "aug.fit(X_train)\n"
   ]
  },
  {
   "attachments": {},
   "cell_type": "markdown",
   "id": "4eca46d4",
   "metadata": {},
   "source": [
    "## Training & Building Model"
   ]
  },
  {
   "cell_type": "code",
   "execution_count": 184,
   "id": "450839c2",
   "metadata": {},
   "outputs": [
    {
     "data": {
      "text/html": [
       "<pre style=\"white-space:pre;overflow-x:auto;line-height:normal;font-family:Menlo,'DejaVu Sans Mono',consolas,'Courier New',monospace\"><span style=\"font-weight: bold\">Model: \"sequential_28\"</span>\n",
       "</pre>\n"
      ],
      "text/plain": [
       "\u001b[1mModel: \"sequential_28\"\u001b[0m\n"
      ]
     },
     "metadata": {},
     "output_type": "display_data"
    },
    {
     "data": {
      "text/html": [
       "<pre style=\"white-space:pre;overflow-x:auto;line-height:normal;font-family:Menlo,'DejaVu Sans Mono',consolas,'Courier New',monospace\">┏━━━━━━━━━━━━━━━━━━━━━━━━━━━━━━━━━┳━━━━━━━━━━━━━━━━━━━━━━━━┳━━━━━━━━━━━━━━━┓\n",
       "┃<span style=\"font-weight: bold\"> Layer (type)                    </span>┃<span style=\"font-weight: bold\"> Output Shape           </span>┃<span style=\"font-weight: bold\">       Param # </span>┃\n",
       "┡━━━━━━━━━━━━━━━━━━━━━━━━━━━━━━━━━╇━━━━━━━━━━━━━━━━━━━━━━━━╇━━━━━━━━━━━━━━━┩\n",
       "│ conv2d_57 (<span style=\"color: #0087ff; text-decoration-color: #0087ff\">Conv2D</span>)              │ (<span style=\"color: #00d7ff; text-decoration-color: #00d7ff\">None</span>, <span style=\"color: #00af00; text-decoration-color: #00af00\">28</span>, <span style=\"color: #00af00; text-decoration-color: #00af00\">28</span>, <span style=\"color: #00af00; text-decoration-color: #00af00\">6</span>)      │           <span style=\"color: #00af00; text-decoration-color: #00af00\">156</span> │\n",
       "├─────────────────────────────────┼────────────────────────┼───────────────┤\n",
       "│ max_pooling2d_55 (<span style=\"color: #0087ff; text-decoration-color: #0087ff\">MaxPooling2D</span>) │ (<span style=\"color: #00d7ff; text-decoration-color: #00d7ff\">None</span>, <span style=\"color: #00af00; text-decoration-color: #00af00\">14</span>, <span style=\"color: #00af00; text-decoration-color: #00af00\">14</span>, <span style=\"color: #00af00; text-decoration-color: #00af00\">6</span>)      │             <span style=\"color: #00af00; text-decoration-color: #00af00\">0</span> │\n",
       "├─────────────────────────────────┼────────────────────────┼───────────────┤\n",
       "│ conv2d_58 (<span style=\"color: #0087ff; text-decoration-color: #0087ff\">Conv2D</span>)              │ (<span style=\"color: #00d7ff; text-decoration-color: #00d7ff\">None</span>, <span style=\"color: #00af00; text-decoration-color: #00af00\">10</span>, <span style=\"color: #00af00; text-decoration-color: #00af00\">10</span>, <span style=\"color: #00af00; text-decoration-color: #00af00\">16</span>)     │         <span style=\"color: #00af00; text-decoration-color: #00af00\">2,416</span> │\n",
       "├─────────────────────────────────┼────────────────────────┼───────────────┤\n",
       "│ max_pooling2d_56 (<span style=\"color: #0087ff; text-decoration-color: #0087ff\">MaxPooling2D</span>) │ (<span style=\"color: #00d7ff; text-decoration-color: #00d7ff\">None</span>, <span style=\"color: #00af00; text-decoration-color: #00af00\">5</span>, <span style=\"color: #00af00; text-decoration-color: #00af00\">5</span>, <span style=\"color: #00af00; text-decoration-color: #00af00\">16</span>)       │             <span style=\"color: #00af00; text-decoration-color: #00af00\">0</span> │\n",
       "├─────────────────────────────────┼────────────────────────┼───────────────┤\n",
       "│ flatten_27 (<span style=\"color: #0087ff; text-decoration-color: #0087ff\">Flatten</span>)            │ (<span style=\"color: #00d7ff; text-decoration-color: #00d7ff\">None</span>, <span style=\"color: #00af00; text-decoration-color: #00af00\">400</span>)            │             <span style=\"color: #00af00; text-decoration-color: #00af00\">0</span> │\n",
       "├─────────────────────────────────┼────────────────────────┼───────────────┤\n",
       "│ dense_77 (<span style=\"color: #0087ff; text-decoration-color: #0087ff\">Dense</span>)                │ (<span style=\"color: #00d7ff; text-decoration-color: #00d7ff\">None</span>, <span style=\"color: #00af00; text-decoration-color: #00af00\">120</span>)            │        <span style=\"color: #00af00; text-decoration-color: #00af00\">48,120</span> │\n",
       "├─────────────────────────────────┼────────────────────────┼───────────────┤\n",
       "│ dense_78 (<span style=\"color: #0087ff; text-decoration-color: #0087ff\">Dense</span>)                │ (<span style=\"color: #00d7ff; text-decoration-color: #00d7ff\">None</span>, <span style=\"color: #00af00; text-decoration-color: #00af00\">84</span>)             │        <span style=\"color: #00af00; text-decoration-color: #00af00\">10,164</span> │\n",
       "├─────────────────────────────────┼────────────────────────┼───────────────┤\n",
       "│ dense_79 (<span style=\"color: #0087ff; text-decoration-color: #0087ff\">Dense</span>)                │ (<span style=\"color: #00d7ff; text-decoration-color: #00d7ff\">None</span>, <span style=\"color: #00af00; text-decoration-color: #00af00\">43</span>)             │         <span style=\"color: #00af00; text-decoration-color: #00af00\">3,655</span> │\n",
       "└─────────────────────────────────┴────────────────────────┴───────────────┘\n",
       "</pre>\n"
      ],
      "text/plain": [
       "┏━━━━━━━━━━━━━━━━━━━━━━━━━━━━━━━━━┳━━━━━━━━━━━━━━━━━━━━━━━━┳━━━━━━━━━━━━━━━┓\n",
       "┃\u001b[1m \u001b[0m\u001b[1mLayer (type)                   \u001b[0m\u001b[1m \u001b[0m┃\u001b[1m \u001b[0m\u001b[1mOutput Shape          \u001b[0m\u001b[1m \u001b[0m┃\u001b[1m \u001b[0m\u001b[1m      Param #\u001b[0m\u001b[1m \u001b[0m┃\n",
       "┡━━━━━━━━━━━━━━━━━━━━━━━━━━━━━━━━━╇━━━━━━━━━━━━━━━━━━━━━━━━╇━━━━━━━━━━━━━━━┩\n",
       "│ conv2d_57 (\u001b[38;5;33mConv2D\u001b[0m)              │ (\u001b[38;5;45mNone\u001b[0m, \u001b[38;5;34m28\u001b[0m, \u001b[38;5;34m28\u001b[0m, \u001b[38;5;34m6\u001b[0m)      │           \u001b[38;5;34m156\u001b[0m │\n",
       "├─────────────────────────────────┼────────────────────────┼───────────────┤\n",
       "│ max_pooling2d_55 (\u001b[38;5;33mMaxPooling2D\u001b[0m) │ (\u001b[38;5;45mNone\u001b[0m, \u001b[38;5;34m14\u001b[0m, \u001b[38;5;34m14\u001b[0m, \u001b[38;5;34m6\u001b[0m)      │             \u001b[38;5;34m0\u001b[0m │\n",
       "├─────────────────────────────────┼────────────────────────┼───────────────┤\n",
       "│ conv2d_58 (\u001b[38;5;33mConv2D\u001b[0m)              │ (\u001b[38;5;45mNone\u001b[0m, \u001b[38;5;34m10\u001b[0m, \u001b[38;5;34m10\u001b[0m, \u001b[38;5;34m16\u001b[0m)     │         \u001b[38;5;34m2,416\u001b[0m │\n",
       "├─────────────────────────────────┼────────────────────────┼───────────────┤\n",
       "│ max_pooling2d_56 (\u001b[38;5;33mMaxPooling2D\u001b[0m) │ (\u001b[38;5;45mNone\u001b[0m, \u001b[38;5;34m5\u001b[0m, \u001b[38;5;34m5\u001b[0m, \u001b[38;5;34m16\u001b[0m)       │             \u001b[38;5;34m0\u001b[0m │\n",
       "├─────────────────────────────────┼────────────────────────┼───────────────┤\n",
       "│ flatten_27 (\u001b[38;5;33mFlatten\u001b[0m)            │ (\u001b[38;5;45mNone\u001b[0m, \u001b[38;5;34m400\u001b[0m)            │             \u001b[38;5;34m0\u001b[0m │\n",
       "├─────────────────────────────────┼────────────────────────┼───────────────┤\n",
       "│ dense_77 (\u001b[38;5;33mDense\u001b[0m)                │ (\u001b[38;5;45mNone\u001b[0m, \u001b[38;5;34m120\u001b[0m)            │        \u001b[38;5;34m48,120\u001b[0m │\n",
       "├─────────────────────────────────┼────────────────────────┼───────────────┤\n",
       "│ dense_78 (\u001b[38;5;33mDense\u001b[0m)                │ (\u001b[38;5;45mNone\u001b[0m, \u001b[38;5;34m84\u001b[0m)             │        \u001b[38;5;34m10,164\u001b[0m │\n",
       "├─────────────────────────────────┼────────────────────────┼───────────────┤\n",
       "│ dense_79 (\u001b[38;5;33mDense\u001b[0m)                │ (\u001b[38;5;45mNone\u001b[0m, \u001b[38;5;34m43\u001b[0m)             │         \u001b[38;5;34m3,655\u001b[0m │\n",
       "└─────────────────────────────────┴────────────────────────┴───────────────┘\n"
      ]
     },
     "metadata": {},
     "output_type": "display_data"
    },
    {
     "data": {
      "text/html": [
       "<pre style=\"white-space:pre;overflow-x:auto;line-height:normal;font-family:Menlo,'DejaVu Sans Mono',consolas,'Courier New',monospace\"><span style=\"font-weight: bold\"> Total params: </span><span style=\"color: #00af00; text-decoration-color: #00af00\">64,511</span> (252.00 KB)\n",
       "</pre>\n"
      ],
      "text/plain": [
       "\u001b[1m Total params: \u001b[0m\u001b[38;5;34m64,511\u001b[0m (252.00 KB)\n"
      ]
     },
     "metadata": {},
     "output_type": "display_data"
    },
    {
     "data": {
      "text/html": [
       "<pre style=\"white-space:pre;overflow-x:auto;line-height:normal;font-family:Menlo,'DejaVu Sans Mono',consolas,'Courier New',monospace\"><span style=\"font-weight: bold\"> Trainable params: </span><span style=\"color: #00af00; text-decoration-color: #00af00\">64,511</span> (252.00 KB)\n",
       "</pre>\n"
      ],
      "text/plain": [
       "\u001b[1m Trainable params: \u001b[0m\u001b[38;5;34m64,511\u001b[0m (252.00 KB)\n"
      ]
     },
     "metadata": {},
     "output_type": "display_data"
    },
    {
     "data": {
      "text/html": [
       "<pre style=\"white-space:pre;overflow-x:auto;line-height:normal;font-family:Menlo,'DejaVu Sans Mono',consolas,'Courier New',monospace\"><span style=\"font-weight: bold\"> Non-trainable params: </span><span style=\"color: #00af00; text-decoration-color: #00af00\">0</span> (0.00 B)\n",
       "</pre>\n"
      ],
      "text/plain": [
       "\u001b[1m Non-trainable params: \u001b[0m\u001b[38;5;34m0\u001b[0m (0.00 B)\n"
      ]
     },
     "metadata": {},
     "output_type": "display_data"
    }
   ],
   "source": [
    "def create_cnn_model(input_shape=(32, 32, 1), num_classes=43):\n",
    "    model = Sequential()\n",
    "\n",
    "    model.add(Conv2D(filters=6, kernel_size=(5, 5), activation='relu', input_shape=input_shape))\n",
    "    model.add(MaxPooling2D())\n",
    "\n",
    "    model.add(Conv2D(filters=16, kernel_size=(5, 5), activation='relu'))\n",
    "    model.add(MaxPooling2D())\n",
    "\n",
    "    # add more layers\n",
    "    # model.add(Conv2D(filters=16, kernel_size=(5, 5), activation='relu'))\n",
    "    # model.add(MaxPooling2D())\n",
    "\n",
    "\n",
    "    model.add(Flatten())\n",
    "\n",
    "    model.add(Dense(units=120, activation='relu'))\n",
    "    # model.add(Dropout(0.1))  # Adding dropout after the first dense layer\n",
    "\n",
    "    model.add(Dense(units=84, activation='relu'))\n",
    "    # model.add(Dropout(0.3))  # Adding dropout after the second dense layer\n",
    "\n",
    "    model.add(Dense(units=num_classes, activation='softmax'))\n",
    "    \n",
    "    return model\n",
    "\n",
    "# Create the CNN model with dropout\n",
    "cnn_model = create_cnn_model()\n",
    "\n",
    "# Print the model summary\n",
    "cnn_model.summary()\n",
    "\n"
   ]
  },
  {
   "cell_type": "code",
   "execution_count": 185,
   "id": "68aa88ab",
   "metadata": {},
   "outputs": [],
   "source": [
    "cnn_model.compile(loss ='sparse_categorical_crossentropy', optimizer=Adam(learning_rate=0.001),metrics =['accuracy'])"
   ]
  },
  {
   "cell_type": "code",
   "execution_count": null,
   "id": "ca28d7d8",
   "metadata": {},
   "outputs": [],
   "source": [
    "# history = cnn_model.fit(X_train_gray_norm,\n",
    "#                         y_train,\n",
    "#                         batch_size=200,\n",
    "#                         epochs=10,\n",
    "#                         verbose=1,\n",
    "#                         validation_data = (X_valid_gray_norm,y_valid))"
   ]
  },
  {
   "cell_type": "code",
   "execution_count": 186,
   "id": "e5d4ea67",
   "metadata": {},
   "outputs": [
    {
     "name": "stdout",
     "output_type": "stream",
     "text": [
      "Epoch 1/30\n",
      "\u001b[1m69/69\u001b[0m \u001b[32m━━━━━━━━━━━━━━━━━━━━\u001b[0m\u001b[37m\u001b[0m \u001b[1m9s\u001b[0m 102ms/step - accuracy: 0.0662 - loss: 3.5866 - val_accuracy: 0.2039 - val_loss: 3.0771\n",
      "Epoch 2/30\n",
      "\u001b[1m69/69\u001b[0m \u001b[32m━━━━━━━━━━━━━━━━━━━━\u001b[0m\u001b[37m\u001b[0m \u001b[1m0s\u001b[0m 3ms/step - accuracy: 0.1840 - loss: 3.0912 - val_accuracy: 0.2236 - val_loss: 3.0462\n",
      "Epoch 3/30\n",
      "\u001b[1m69/69\u001b[0m \u001b[32m━━━━━━━━━━━━━━━━━━━━\u001b[0m\u001b[37m\u001b[0m \u001b[1m7s\u001b[0m 99ms/step - accuracy: 0.2377 - loss: 2.8402 - val_accuracy: 0.4265 - val_loss: 2.1013\n",
      "Epoch 4/30\n",
      "\u001b[1m69/69\u001b[0m \u001b[32m━━━━━━━━━━━━━━━━━━━━\u001b[0m\u001b[37m\u001b[0m \u001b[1m0s\u001b[0m 3ms/step - accuracy: 0.3880 - loss: 2.2891 - val_accuracy: 0.4061 - val_loss: 2.1016\n",
      "Epoch 5/30\n",
      "\u001b[1m69/69\u001b[0m \u001b[32m━━━━━━━━━━━━━━━━━━━━\u001b[0m\u001b[37m\u001b[0m \u001b[1m8s\u001b[0m 99ms/step - accuracy: 0.3842 - loss: 2.1879 - val_accuracy: 0.5440 - val_loss: 1.6101\n",
      "Epoch 6/30\n",
      "\u001b[1m69/69\u001b[0m \u001b[32m━━━━━━━━━━━━━━━━━━━━\u001b[0m\u001b[37m\u001b[0m \u001b[1m0s\u001b[0m 3ms/step - accuracy: 0.4220 - loss: 1.9572 - val_accuracy: 0.5358 - val_loss: 1.5957\n",
      "Epoch 7/30\n",
      "\u001b[1m69/69\u001b[0m \u001b[32m━━━━━━━━━━━━━━━━━━━━\u001b[0m\u001b[37m\u001b[0m \u001b[1m9s\u001b[0m 115ms/step - accuracy: 0.4909 - loss: 1.7864 - val_accuracy: 0.6082 - val_loss: 1.3528\n",
      "Epoch 8/30\n",
      "\u001b[1m69/69\u001b[0m \u001b[32m━━━━━━━━━━━━━━━━━━━━\u001b[0m\u001b[37m\u001b[0m \u001b[1m0s\u001b[0m 4ms/step - accuracy: 0.6000 - loss: 1.4927 - val_accuracy: 0.5959 - val_loss: 1.3980\n",
      "Epoch 9/30\n",
      "\u001b[1m69/69\u001b[0m \u001b[32m━━━━━━━━━━━━━━━━━━━━\u001b[0m\u001b[37m\u001b[0m \u001b[1m13s\u001b[0m 170ms/step - accuracy: 0.5531 - loss: 1.5478 - val_accuracy: 0.6653 - val_loss: 1.2099\n",
      "Epoch 10/30\n",
      "\u001b[1m69/69\u001b[0m \u001b[32m━━━━━━━━━━━━━━━━━━━━\u001b[0m\u001b[37m\u001b[0m \u001b[1m1s\u001b[0m 11ms/step - accuracy: 0.6360 - loss: 1.2874 - val_accuracy: 0.6637 - val_loss: 1.1987\n",
      "Epoch 11/30\n",
      "\u001b[1m69/69\u001b[0m \u001b[32m━━━━━━━━━━━━━━━━━━━━\u001b[0m\u001b[37m\u001b[0m \u001b[1m9s\u001b[0m 111ms/step - accuracy: 0.6111 - loss: 1.3395 - val_accuracy: 0.7061 - val_loss: 1.0415\n",
      "Epoch 12/30\n",
      "\u001b[1m69/69\u001b[0m \u001b[32m━━━━━━━━━━━━━━━━━━━━\u001b[0m\u001b[37m\u001b[0m \u001b[1m0s\u001b[0m 3ms/step - accuracy: 0.6560 - loss: 1.2042 - val_accuracy: 0.7016 - val_loss: 1.0677\n",
      "Epoch 13/30\n",
      "\u001b[1m69/69\u001b[0m \u001b[32m━━━━━━━━━━━━━━━━━━━━\u001b[0m\u001b[37m\u001b[0m \u001b[1m8s\u001b[0m 102ms/step - accuracy: 0.6522 - loss: 1.2037 - val_accuracy: 0.7145 - val_loss: 0.9870\n",
      "Epoch 14/30\n",
      "\u001b[1m69/69\u001b[0m \u001b[32m━━━━━━━━━━━━━━━━━━━━\u001b[0m\u001b[37m\u001b[0m \u001b[1m0s\u001b[0m 3ms/step - accuracy: 0.6580 - loss: 1.1067 - val_accuracy: 0.7236 - val_loss: 0.9730\n",
      "Epoch 15/30\n",
      "\u001b[1m69/69\u001b[0m \u001b[32m━━━━━━━━━━━━━━━━━━━━\u001b[0m\u001b[37m\u001b[0m \u001b[1m8s\u001b[0m 103ms/step - accuracy: 0.6766 - loss: 1.1027 - val_accuracy: 0.7454 - val_loss: 0.8891\n",
      "Epoch 16/30\n",
      "\u001b[1m69/69\u001b[0m \u001b[32m━━━━━━━━━━━━━━━━━━━━\u001b[0m\u001b[37m\u001b[0m \u001b[1m0s\u001b[0m 3ms/step - accuracy: 0.7080 - loss: 1.0875 - val_accuracy: 0.7533 - val_loss: 0.8913\n",
      "Epoch 17/30\n",
      "\u001b[1m69/69\u001b[0m \u001b[32m━━━━━━━━━━━━━━━━━━━━\u001b[0m\u001b[37m\u001b[0m \u001b[1m8s\u001b[0m 103ms/step - accuracy: 0.7079 - loss: 1.0225 - val_accuracy: 0.7633 - val_loss: 0.8411\n",
      "Epoch 18/30\n",
      "\u001b[1m69/69\u001b[0m \u001b[32m━━━━━━━━━━━━━━━━━━━━\u001b[0m\u001b[37m\u001b[0m \u001b[1m0s\u001b[0m 3ms/step - accuracy: 0.7040 - loss: 0.9929 - val_accuracy: 0.7601 - val_loss: 0.8381\n",
      "Epoch 19/30\n",
      "\u001b[1m69/69\u001b[0m \u001b[32m━━━━━━━━━━━━━━━━━━━━\u001b[0m\u001b[37m\u001b[0m \u001b[1m8s\u001b[0m 104ms/step - accuracy: 0.7270 - loss: 0.9558 - val_accuracy: 0.7766 - val_loss: 0.7801\n",
      "Epoch 20/30\n",
      "\u001b[1m69/69\u001b[0m \u001b[32m━━━━━━━━━━━━━━━━━━━━\u001b[0m\u001b[37m\u001b[0m \u001b[1m0s\u001b[0m 3ms/step - accuracy: 0.7340 - loss: 0.9169 - val_accuracy: 0.7757 - val_loss: 0.7945\n",
      "Epoch 21/30\n",
      "\u001b[1m69/69\u001b[0m \u001b[32m━━━━━━━━━━━━━━━━━━━━\u001b[0m\u001b[37m\u001b[0m \u001b[1m8s\u001b[0m 102ms/step - accuracy: 0.7443 - loss: 0.8858 - val_accuracy: 0.7823 - val_loss: 0.7747\n",
      "Epoch 22/30\n",
      "\u001b[1m69/69\u001b[0m \u001b[32m━━━━━━━━━━━━━━━━━━━━\u001b[0m\u001b[37m\u001b[0m \u001b[1m0s\u001b[0m 3ms/step - accuracy: 0.7620 - loss: 0.8462 - val_accuracy: 0.7841 - val_loss: 0.7862\n",
      "Epoch 23/30\n",
      "\u001b[1m69/69\u001b[0m \u001b[32m━━━━━━━━━━━━━━━━━━━━\u001b[0m\u001b[37m\u001b[0m \u001b[1m8s\u001b[0m 102ms/step - accuracy: 0.7604 - loss: 0.8250 - val_accuracy: 0.7984 - val_loss: 0.7090\n",
      "Epoch 24/30\n",
      "\u001b[1m69/69\u001b[0m \u001b[32m━━━━━━━━━━━━━━━━━━━━\u001b[0m\u001b[37m\u001b[0m \u001b[1m0s\u001b[0m 3ms/step - accuracy: 0.7720 - loss: 0.7498 - val_accuracy: 0.8039 - val_loss: 0.6941\n",
      "Epoch 25/30\n",
      "\u001b[1m69/69\u001b[0m \u001b[32m━━━━━━━━━━━━━━━━━━━━\u001b[0m\u001b[37m\u001b[0m \u001b[1m8s\u001b[0m 104ms/step - accuracy: 0.7765 - loss: 0.7815 - val_accuracy: 0.7939 - val_loss: 0.7028\n",
      "Epoch 26/30\n",
      "\u001b[1m69/69\u001b[0m \u001b[32m━━━━━━━━━━━━━━━━━━━━\u001b[0m\u001b[37m\u001b[0m \u001b[1m0s\u001b[0m 3ms/step - accuracy: 0.8080 - loss: 0.7678 - val_accuracy: 0.7982 - val_loss: 0.7055\n",
      "Epoch 27/30\n",
      "\u001b[1m69/69\u001b[0m \u001b[32m━━━━━━━━━━━━━━━━━━━━\u001b[0m\u001b[37m\u001b[0m \u001b[1m9s\u001b[0m 123ms/step - accuracy: 0.7873 - loss: 0.7403 - val_accuracy: 0.8143 - val_loss: 0.6510\n",
      "Epoch 28/30\n",
      "\u001b[1m69/69\u001b[0m \u001b[32m━━━━━━━━━━━━━━━━━━━━\u001b[0m\u001b[37m\u001b[0m \u001b[1m0s\u001b[0m 3ms/step - accuracy: 0.7760 - loss: 0.7435 - val_accuracy: 0.8150 - val_loss: 0.6396\n",
      "Epoch 29/30\n",
      "\u001b[1m69/69\u001b[0m \u001b[32m━━━━━━━━━━━━━━━━━━━━\u001b[0m\u001b[37m\u001b[0m \u001b[1m8s\u001b[0m 102ms/step - accuracy: 0.8010 - loss: 0.6962 - val_accuracy: 0.8395 - val_loss: 0.6013\n",
      "Epoch 30/30\n",
      "\u001b[1m69/69\u001b[0m \u001b[32m━━━━━━━━━━━━━━━━━━━━\u001b[0m\u001b[37m\u001b[0m \u001b[1m0s\u001b[0m 3ms/step - accuracy: 0.8120 - loss: 0.6851 - val_accuracy: 0.8372 - val_loss: 0.5956\n"
     ]
    }
   ],
   "source": [
    "history = cnn_model.fit(\n",
    "    aug.flow(X_train_gray_norm, y_train, batch_size=500),\n",
    "    steps_per_epoch=len(X_train) // 500,  # Adjusted batch size for steps_per_epoch\n",
    "    epochs=30,\n",
    "    verbose=1,\n",
    "    validation_data=(X_valid_gray_norm, y_valid)\n",
    ")"
   ]
  },
  {
   "attachments": {},
   "cell_type": "markdown",
   "id": "a0111e0c",
   "metadata": {},
   "source": [
    "## Evaluation "
   ]
  },
  {
   "cell_type": "code",
   "execution_count": 187,
   "id": "e4ed1c25",
   "metadata": {},
   "outputs": [
    {
     "name": "stdout",
     "output_type": "stream",
     "text": [
      "Test Accuracy : 0.8340\n"
     ]
    }
   ],
   "source": [
    "score = cnn_model.evaluate(X_test_gray_norm, y_test,verbose=0)\n",
    "print('Test Accuracy : {:.4f}'.format(score[1]))"
   ]
  },
  {
   "cell_type": "code",
   "execution_count": 188,
   "id": "173e6d0e",
   "metadata": {},
   "outputs": [
    {
     "data": {
      "text/plain": [
       "dict_keys(['accuracy', 'loss', 'val_accuracy', 'val_loss'])"
      ]
     },
     "execution_count": 188,
     "metadata": {},
     "output_type": "execute_result"
    }
   ],
   "source": [
    "history.history.keys()"
   ]
  },
  {
   "cell_type": "code",
   "execution_count": 189,
   "id": "3558dbaf",
   "metadata": {},
   "outputs": [
    {
     "data": {
      "text/plain": [
       "<matplotlib.legend.Legend at 0x1cb989a4e90>"
      ]
     },
     "execution_count": 189,
     "metadata": {},
     "output_type": "execute_result"
    },
    {
     "data": {
      "image/png": "[encoded data removed]",
      "text/plain": [
       "<Figure size 640x480 with 1 Axes>"
      ]
     },
     "metadata": {},
     "output_type": "display_data"
    }
   ],
   "source": [
    "accuracy = history.history['accuracy']\n",
    "val_accuracy = history.history['val_accuracy']\n",
    "loss = history.history['loss']\n",
    "val_loss = history.history['val_loss']\n",
    "\n",
    "epochs = range(len(accuracy))\n",
    "\n",
    "plt.plot(epochs, accuracy, 'r-', label='Training Accuracy')\n",
    "plt.plot(epochs, val_accuracy, 'b', label='Validation Accuracy')\n",
    "plt.title('Training and Validation accuracy')\n",
    "plt.legend()\n"
   ]
  },
  {
   "cell_type": "code",
   "execution_count": 190,
   "id": "ebf802e0",
   "metadata": {},
   "outputs": [
    {
     "data": {
      "image/png": "[encoded data removed]",
      "text/plain": [
       "<Figure size 640x480 with 1 Axes>"
      ]
     },
     "metadata": {},
     "output_type": "display_data"
    }
   ],
   "source": [
    "plt.plot(epochs, loss, 'b-', label='Training Loss')\n",
    "plt.plot(epochs, val_loss, 'r', label='Validation Loss')\n",
    "plt.title('Training and validation loss')\n",
    "plt.legend()\n",
    "plt.show()"
   ]
  },
  {
   "cell_type": "markdown",
   "id": "c35aedc1",
   "metadata": {},
   "source": [
    "# THANK YOU!"
   ]
  }
 ],
 "metadata": {
  "kernelspec": {
   "display_name": "base",
   "language": "python",
   "name": "python3"
  },
  "language_info": {
   "codemirror_mode": {
    "name": "ipython",
    "version": 3
   },
   "file_extension": ".py",
   "mimetype": "text/x-python",
   "name": "python",
   "nbconvert_exporter": "python",
   "pygments_lexer": "ipython3",
   "version": "3.11.5"
  },
  "vscode": {
   "interpreter": {
    "hash": "5ae58900cfbb8c43ab3495913814b7cf26024f51651a94ce8bf64d6111688e8d"
   }
  }
 },
 "nbformat": 4,
 "nbformat_minor": 5
}
